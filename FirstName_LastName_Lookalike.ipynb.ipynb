{
  "nbformat": 4,
  "nbformat_minor": 0,
  "metadata": {
    "colab": {
      "provenance": []
    },
    "kernelspec": {
      "name": "python3",
      "display_name": "Python 3"
    },
    "language_info": {
      "name": "python"
    }
  },
  "cells": [
    {
      "cell_type": "code",
      "execution_count": 2,
      "metadata": {
        "id": "mCiVkDEjy83i"
      },
      "outputs": [],
      "source": [
        "import pandas as pd\n",
        "from sklearn.metrics.pairwise import cosine_similarity\n",
        "from sklearn.preprocessing import StandardScaler\n",
        "\n",
        "# Load datasets\n",
        "customers = pd.read_csv('/content/drive/MyDrive/Data science Assignment Zeotap/Customers.csv',sep=',')\n",
        "products = pd.read_csv('/content/drive/MyDrive/Data science Assignment Zeotap/Products.csv',sep=',')\n",
        "transactions = pd.read_csv('/content/drive/MyDrive/Data science Assignment Zeotap/Transactions.csv',sep=',')\n",
        "\n",
        "# Remove BOM characters from column names\n",
        "customers.columns = customers.columns.str.replace('ï»¿', '')\n",
        "products.columns = products.columns.str.replace('ï»¿', '')\n",
        "transactions.columns = transactions.columns.str.replace('ï»¿', '')\n",
        "\n",
        "# Convert date columns to datetime\n",
        "customers['SignupDate'] = pd.to_datetime(customers['SignupDate'])\n",
        "transactions['TransactionDate'] = pd.to_datetime(transactions['TransactionDate'])\n",
        "\n",
        "# Merge datasets into one DataFrame\n",
        "data = pd.merge(transactions, customers, on='CustomerID')\n",
        "data = pd.merge(data, products, on='ProductID')\n"
      ]
    },
    {
      "cell_type": "code",
      "source": [
        "# Create a customer-product matrix\n",
        "customer_product_matrix = data.pivot_table(\n",
        "    index='CustomerID',\n",
        "    columns='ProductName',\n",
        "    values='TotalValue',\n",
        "    aggfunc='sum'\n",
        ").fillna(0)\n",
        "\n",
        "# Scale the matrix to normalize spending patterns\n",
        "scaler = StandardScaler()\n",
        "customer_product_matrix_scaled = scaler.fit_transform(customer_product_matrix)\n",
        "\n",
        "# Convert back to DataFrame\n",
        "customer_product_matrix_scaled = pd.DataFrame(\n",
        "    customer_product_matrix_scaled,\n",
        "    index=customer_product_matrix.index,\n",
        "    columns=customer_product_matrix.columns\n",
        ")\n",
        "# Compute cosine similarity between customers\n",
        "similarity_matrix = cosine_similarity(customer_product_matrix_scaled)\n",
        "\n",
        "# Create a DataFrame for similarity scores\n",
        "similarity_df = pd.DataFrame(\n",
        "    similarity_matrix,\n",
        "    index=customer_product_matrix.index,\n",
        "    columns=customer_product_matrix.index\n",
        ")\n",
        "\n",
        "# Display sample similarity scores\n",
        "print(similarity_df.head())\n",
        "# Function to get top N similar customers\n",
        "def get_top_n_similar(customers, similarity_df, n=3):\n",
        "    recommendations = {}\n",
        "    for customer_id in customers:\n",
        "        # Sort similarity scores in descending order, excluding the customer itself\n",
        "        similar_customers = similarity_df[customer_id].sort_values(ascending=False)[1:n+1]\n",
        "        recommendations[customer_id] = list(zip(similar_customers.index, similar_customers.values))\n",
        "    return recommendations\n",
        "\n",
        "# Get top 3 similar customers for the first 20 customers\n",
        "first_20_customers = customers['CustomerID'][:20]\n",
        "recommendations = get_top_n_similar(first_20_customers, similarity_df, n=3)\n",
        "\n",
        "# Convert recommendations to a DataFrame\n",
        "lookalike_df = pd.DataFrame([\n",
        "    {'CustomerID': key, 'Lookalikes': value}\n",
        "    for key, value in recommendations.items()\n",
        "])"
      ],
      "metadata": {
        "colab": {
          "base_uri": "https://localhost:8080/"
        },
        "id": "dVT3vgoS0tDI",
        "outputId": "7877c616-4dbb-4042-b83a-e09195eff94b"
      },
      "execution_count": 3,
      "outputs": [
        {
          "output_type": "stream",
          "name": "stdout",
          "text": [
            "CustomerID     C0001     C0002     C0003     C0004     C0005     C0006  \\\n",
            "CustomerID                                                               \n",
            "C0001       1.000000 -0.054594  0.054619 -0.022810 -0.063402 -0.091476   \n",
            "C0002      -0.054594  1.000000 -0.039473 -0.065389 -0.022230 -0.042617   \n",
            "C0003       0.054619 -0.039473  1.000000  0.083942  0.114454 -0.067773   \n",
            "C0004      -0.022810 -0.065389  0.083942  1.000000 -0.000474 -0.099499   \n",
            "C0005      -0.063402 -0.022230  0.114454 -0.000474  1.000000 -0.047611   \n",
            "\n",
            "CustomerID     C0007     C0008     C0009     C0010  ...     C0191     C0192  \\\n",
            "CustomerID                                          ...                       \n",
            "C0001       0.092261 -0.054069  0.062400 -0.058647  ...  0.003818 -0.063134   \n",
            "C0002      -0.037948  0.299206  0.002358 -0.018067  ... -0.041409 -0.018110   \n",
            "C0003      -0.008329  0.392142  0.127793 -0.040201  ... -0.004324 -0.042806   \n",
            "C0004       0.213756 -0.060083 -0.060029 -0.051889  ... -0.060177 -0.093141   \n",
            "C0005      -0.042806 -0.064878  0.044587 -0.009893  ... -0.045949  0.398613   \n",
            "\n",
            "CustomerID     C0193     C0194     C0195     C0196     C0197     C0198  \\\n",
            "CustomerID                                                               \n",
            "C0001      -0.024234  0.397810 -0.101224 -0.073945  0.000228 -0.045144   \n",
            "C0002      -0.030713  0.005635 -0.048907 -0.034698 -0.027975 -0.000529   \n",
            "C0003      -0.051224  0.073848 -0.077558  0.031069 -0.048076 -0.026246   \n",
            "C0004       0.007208  0.140407 -0.094305 -0.079893 -0.078341 -0.093488   \n",
            "C0005      -0.032174  0.163726 -0.068951 -0.039040 -0.028035  0.022204   \n",
            "\n",
            "CustomerID     C0199     C0200  \n",
            "CustomerID                      \n",
            "C0001       0.428675 -0.091458  \n",
            "C0002      -0.037612 -0.048291  \n",
            "C0003      -0.021872 -0.069756  \n",
            "C0004       0.221856 -0.087180  \n",
            "C0005      -0.042136 -0.060267  \n",
            "\n",
            "[5 rows x 199 columns]\n"
          ]
        }
      ]
    },
    {
      "cell_type": "code",
      "source": [
        "# Prepare the data for saving\n",
        "lookalike_df = pd.DataFrame([\n",
        "    {'CustomerID': key, 'Lookalikes': value} for key, value in recommendations.items()\n",
        "])\n",
        "\n",
        "# Save the recommendations as a CSV file\n",
        "lookalike_df.to_csv('FirstName_LastName_Lookalike.csv', index=False)\n",
        "\n",
        "print(\"Lookalike recommendations saved to 'FirstName_LastName_Lookalike.csv'\")\n",
        "from google.colab import files\n",
        "\n",
        "# Download the Lookalike CSV file\n",
        "files.download('FirstName_LastName_Lookalike.csv')\n"
      ],
      "metadata": {
        "colab": {
          "base_uri": "https://localhost:8080/",
          "height": 35
        },
        "id": "a1YQhlhW7yOa",
        "outputId": "fb7013c4-19e6-48f3-d3e1-96e36944466c"
      },
      "execution_count": 5,
      "outputs": [
        {
          "output_type": "stream",
          "name": "stdout",
          "text": [
            "Lookalike recommendations saved to 'FirstName_LastName_Lookalike.csv'\n"
          ]
        },
        {
          "output_type": "display_data",
          "data": {
            "text/plain": [
              "<IPython.core.display.Javascript object>"
            ],
            "application/javascript": [
              "\n",
              "    async function download(id, filename, size) {\n",
              "      if (!google.colab.kernel.accessAllowed) {\n",
              "        return;\n",
              "      }\n",
              "      const div = document.createElement('div');\n",
              "      const label = document.createElement('label');\n",
              "      label.textContent = `Downloading \"${filename}\": `;\n",
              "      div.appendChild(label);\n",
              "      const progress = document.createElement('progress');\n",
              "      progress.max = size;\n",
              "      div.appendChild(progress);\n",
              "      document.body.appendChild(div);\n",
              "\n",
              "      const buffers = [];\n",
              "      let downloaded = 0;\n",
              "\n",
              "      const channel = await google.colab.kernel.comms.open(id);\n",
              "      // Send a message to notify the kernel that we're ready.\n",
              "      channel.send({})\n",
              "\n",
              "      for await (const message of channel.messages) {\n",
              "        // Send a message to notify the kernel that we're ready.\n",
              "        channel.send({})\n",
              "        if (message.buffers) {\n",
              "          for (const buffer of message.buffers) {\n",
              "            buffers.push(buffer);\n",
              "            downloaded += buffer.byteLength;\n",
              "            progress.value = downloaded;\n",
              "          }\n",
              "        }\n",
              "      }\n",
              "      const blob = new Blob(buffers, {type: 'application/binary'});\n",
              "      const a = document.createElement('a');\n",
              "      a.href = window.URL.createObjectURL(blob);\n",
              "      a.download = filename;\n",
              "      div.appendChild(a);\n",
              "      a.click();\n",
              "      div.remove();\n",
              "    }\n",
              "  "
            ]
          },
          "metadata": {}
        },
        {
          "output_type": "display_data",
          "data": {
            "text/plain": [
              "<IPython.core.display.Javascript object>"
            ],
            "application/javascript": [
              "download(\"download_abf8809f-02ab-458c-a83d-a611f04529c6\", \"FirstName_LastName_Lookalike.csv\", 2070)"
            ]
          },
          "metadata": {}
        }
      ]
    }
  ]
}